{
 "cells": [
  {
   "cell_type": "code",
   "execution_count": 1,
   "metadata": {},
   "outputs": [],
   "source": [
    "from selenium import webdriver\n",
    "from selenium.webdriver.support.select import Select\n",
    "import pandas as pd\n",
    "from selenium.webdriver.common.keys import Keys\n",
    "from selenium.common.exceptions import NoSuchElementException\n",
    "from selenium.webdriver.common.by import By\n",
    "import time\n",
    "from selenium.common.exceptions import StaleElementReferenceException"
   ]
  },
  {
   "cell_type": "markdown",
   "metadata": {},
   "source": [
    "# Login to your Instagram Handle Submit with sample username and password"
   ]
  },
  {
   "cell_type": "code",
   "execution_count": 182,
   "metadata": {},
   "outputs": [],
   "source": [
    "driver=webdriver.Chrome(executable_path=\"C:\\webdriver\\chromedriver\")"
   ]
  },
  {
   "cell_type": "code",
   "execution_count": 183,
   "metadata": {},
   "outputs": [],
   "source": [
    "driver.get(\"https://www.instagram.com/\")"
   ]
  },
  {
   "cell_type": "code",
   "execution_count": 184,
   "metadata": {},
   "outputs": [],
   "source": [
    "inpt=driver.find_element_by_tag_name(\"input\")"
   ]
  },
  {
   "cell_type": "code",
   "execution_count": 185,
   "metadata": {},
   "outputs": [],
   "source": [
    "inpt.send_keys(\"SAMPLE_USERNAME\")"
   ]
  },
  {
   "cell_type": "code",
   "execution_count": 186,
   "metadata": {},
   "outputs": [],
   "source": [
    "pa=driver.find_element_by_name(\"password\")"
   ]
  },
  {
   "cell_type": "code",
   "execution_count": 187,
   "metadata": {},
   "outputs": [],
   "source": [
    "pa.send_keys(\"SAMPLE_PASSWORD\")"
   ]
  },
  {
   "cell_type": "code",
   "execution_count": 188,
   "metadata": {},
   "outputs": [],
   "source": [
    "pa.submit()"
   ]
  },
  {
   "cell_type": "code",
   "execution_count": 9,
   "metadata": {},
   "outputs": [],
   "source": [
    "# THIS IS THE FIRST STEP WHICH WE HAVE TO PERFORM, WE HAVE TO LOGIN TO THE INSTAGRAM"
   ]
  },
  {
   "cell_type": "markdown",
   "metadata": {},
   "source": [
    "# Now your friend has followed a lot of different food bloggers, he needs to analyse the habits of these bloggers.\n",
    "# From the list of instagram handles you obtained when you searched ‘food’ in previous project. Open the first 10 handles and find the top 5 which have the highest number of followers\n",
    "# Now Find the number of posts these handles have done in the previous 3 days.\n",
    "# Depict this information using a suitable graph.\n"
   ]
  },
  {
   "cell_type": "code",
   "execution_count": 30,
   "metadata": {},
   "outputs": [],
   "source": [
    "# NOW I AM OPENING THE INSTAGRAM HANDLE CALLED AS FOOD\n",
    "def searchh(text):\n",
    "    sear=driver.find_element_by_xpath(\"//div[@class='LWmhU _0aCwM']/input\")\n",
    "    sear.send_keys(text)\n",
    "    time.sleep(3)\n",
    "    #dilse=driver.find_element_by_xpath(\"//div[@class='_7UhW9   xLCgt       qyrsm KV-D4          uL8Hv         ']\")\n",
    "    #dilse.click()\n",
    "searchh(\"food\")"
   ]
  },
  {
   "cell_type": "code",
   "execution_count": 31,
   "metadata": {},
   "outputs": [],
   "source": [
    "# JUST TO SCROLL WE ARE WRITING THIS FUNCTION\n",
    "def scrollto():\n",
    "    yesss=driver.execute_script(\"return document.getElementsByClassName('fuqBx ')[0].scrollHeight;\")\n",
    "    driver.execute_script(\"document.getElementsByClassName('fuqBx ')[0].scrollTo(0,arguments[0]);\",yesss)\n",
    "    \n",
    "scrollto()     "
   ]
  },
  {
   "cell_type": "code",
   "execution_count": null,
   "metadata": {},
   "outputs": [],
   "source": [
    "# THESE ARE THE HANDLES WHICH WILL GIVE YOU 10 FOOD HANDLE NAMES\n",
    "def get10Handles():\n",
    "    count=0\n",
    "    allfoodhandles=driver.find_elements_by_xpath(\"//div[@class='_7UhW9   xLCgt       qyrsm KV-D4          uL8Hv         ']\")\n",
    "    while True:\n",
    "        try:\n",
    "            strr=allfoodhandles[count].text\n",
    "            print(strr)\n",
    "            count=count+1\n",
    "            if count==10:\n",
    "                break\n",
    "        except IndexError:\n",
    "            pass\n",
    "    return\n",
    "\n",
    "get10Handles()\n",
    "    \n",
    "    "
   ]
  },
  {
   "cell_type": "code",
   "execution_count": 43,
   "metadata": {},
   "outputs": [],
   "source": [
    "# THESE ARE THE HANDLES WHICH WILL GIVE YOU 10 FOOD HANDLE NAMES\n",
    "def gettop5Handles():\n",
    "    d={}\n",
    "    count=0\n",
    "    #allfoodhandles=driver.find_elements_by_xpath(\"//div[@class='_7UhW9   xLCgt       qyrsm KV-D4          uL8Hv         ']\")\n",
    "    #print(allfoodhandles)\n",
    "    while True:\n",
    "        try:\n",
    "            time.sleep(2)\n",
    "            allfoodhandles=driver.find_elements_by_xpath(\"//div[@class='_7UhW9   xLCgt       qyrsm KV-D4          uL8Hv         ']\")\n",
    "            strr=allfoodhandles[count].get_attribute('innerHTML')\n",
    "            #dilse=driver.find_element_by_xpath(\"//div[@class='_7UhW9   xLCgt       qyrsm KV-D4          uL8Hv         ']\")\n",
    "            #print(allfoodhandles[count])\n",
    "            allfoodhandles[count].click()\n",
    "            #dilse.click()\n",
    "            follow=driver.find_element_by_xpath(\"//*[@id='react-root']/section/main/div/header/section/ul/li[2]/a/span\")\n",
    "            follow=follow.get_attribute('innerHTML')\n",
    "            follow=str(follow)\n",
    "            #print(follow)\n",
    "            if 'k' in follow:\n",
    "                follow=follow.replace('k','')\n",
    "                follow=float(follow)*1000\n",
    "            elif 'm' in follow:\n",
    "                follow=follow.replace('m','')\n",
    "                follow=float(follow)*1000000  \n",
    "            else:\n",
    "                follow=follow.replace(',','')\n",
    "  \n",
    "                follow=float(follow)\n",
    "            d[strr]=follow\n",
    "            time.sleep(2)\n",
    "            count=count+1\n",
    "            sear=driver.find_element_by_xpath(\"//div[@class='LWmhU _0aCwM']/input\")\n",
    "            sear.send_keys(Keys.ENTER)\n",
    "            time.sleep(5)\n",
    "            if count==11:\n",
    "                break\n",
    "            #print(d)\n",
    "        except IndexError:\n",
    "            pass\n",
    "    return d\n",
    "\n",
    "dic=gettop5Handles()\n",
    "    "
   ]
  },
  {
   "cell_type": "code",
   "execution_count": 44,
   "metadata": {},
   "outputs": [
    {
     "name": "stdout",
     "output_type": "stream",
     "text": [
      "{'foodistamysuru': 30600.0, 'mysore_foodaholic': 704.0, 'tindibandi_mysuru': 122.0, 'yourfoodlab': 1600000.0, 'bangalore_food_girl': 8456.0, 'foodie_kannadathi': 9561.0, 'foodstorieswithus': 4582.0, 'mysuru_street_foodies': 19600.0, 'mysurufood': 17300.0, 'foodloversindia': 78700.0, 'mysurufoodie': 60300.0}\n"
     ]
    }
   ],
   "source": [
    "# HERE ARE THE 10 HANDLES AND THERE FOLLOWERS\n",
    "print(dic)"
   ]
  },
  {
   "cell_type": "code",
   "execution_count": 45,
   "metadata": {},
   "outputs": [],
   "source": [
    "# NOW WE HAVE TO TAKE 5 FOLLOWERS IN THIS"
   ]
  },
  {
   "cell_type": "code",
   "execution_count": 46,
   "metadata": {},
   "outputs": [],
   "source": [
    "values=list(dic.values())"
   ]
  },
  {
   "cell_type": "code",
   "execution_count": 47,
   "metadata": {},
   "outputs": [],
   "source": [
    "values.sort()"
   ]
  },
  {
   "cell_type": "code",
   "execution_count": 48,
   "metadata": {},
   "outputs": [
    {
     "name": "stdout",
     "output_type": "stream",
     "text": [
      "[1600000.0, 78700.0, 60300.0, 30600.0, 19600.0, 17300.0, 9561.0, 8456.0, 4582.0, 704.0, 122.0]\n"
     ]
    }
   ],
   "source": [
    "print(values[::-1])\n",
    "values=values[::-1]"
   ]
  },
  {
   "cell_type": "code",
   "execution_count": 49,
   "metadata": {},
   "outputs": [
    {
     "name": "stdout",
     "output_type": "stream",
     "text": [
      "['yourfoodlab', 'foodloversindia', 'mysurufoodie', 'foodistamysuru', 'mysuru_street_foodies']\n",
      "[1600000.0, 78700.0, 60300.0, 30600.0, 19600.0]\n",
      "HANDLES     FOLLOWERS\n",
      "yourfoodlab  :  1600000.0\n",
      "foodloversindia  :  78700.0\n",
      "mysurufoodie  :  60300.0\n",
      "foodistamysuru  :  30600.0\n",
      "mysuru_street_foodies  :  19600.0\n"
     ]
    }
   ],
   "source": [
    "top5handles=[]\n",
    "top5follow=[]\n",
    "for v in values:\n",
    "    for e in dic.keys():\n",
    "        if dic[e]==v:\n",
    "            #print(v)\n",
    "            #print(dic[e])\n",
    "            #print(e)\n",
    "            top5handles.append(e)\n",
    "            top5follow.append(v)\n",
    "            break\n",
    "print(top5handles[0:5])\n",
    "print(top5follow[0:5])\n",
    "\n",
    "# THESE ARE THE TOP 5 HANDLES WITH THEIR FOLLOWERS\n",
    "print('HANDLES','   ','FOLLOWERS')\n",
    "for i in range(5):\n",
    "    print(top5handles[i],' : ',top5follow[i])"
   ]
  },
  {
   "cell_type": "code",
   "execution_count": 50,
   "metadata": {},
   "outputs": [],
   "source": [
    "top5handles=top5handles[0:5]\n",
    "top5follow=top5follow[0:5]"
   ]
  },
  {
   "cell_type": "markdown",
   "metadata": {},
   "source": [
    "# Now Find the number of posts these handles have done in the previous 3 days.\n",
    "# Depict this information using a suitable graph"
   ]
  },
  {
   "cell_type": "code",
   "execution_count": 60,
   "metadata": {},
   "outputs": [],
   "source": [
    "c={}\n",
    "count=0\n",
    "pcount=0\n",
    "while True:\n",
    "    try:\n",
    "        sear=driver.find_element_by_xpath(\"//div[@class='LWmhU _0aCwM']/input\")\n",
    "        sear.send_keys(top5handles[count])\n",
    "        #count=count+1\n",
    "        time.sleep(3)\n",
    "        dilse=driver.find_element_by_xpath(\"//div[@class='_7UhW9   xLCgt       qyrsm KV-D4          uL8Hv         ']\")\n",
    "        dilse.click()\n",
    "        time.sleep(5)\n",
    "        cm=driver.find_elements_by_xpath(\"//div[@class='_9AhH0']\")\n",
    "        for e in cm:\n",
    "            e.click()\n",
    "            time.sleep(4)\n",
    "            tii=driver.find_element_by_xpath(\"//time[@class='_1o9PC Nzb55']\")\n",
    "            akk=tii.get_attribute('innerHTML')\n",
    "            akk=akk.split()\n",
    "            if 'minutes' in akk or 'seconds' in akk or int(akk[0])<=3:\n",
    "                pcount=pcount+1\n",
    "            else:\n",
    "                cl=driver.find_element_by_xpath(\"/html/body/div[5]/div[3]/button\")\n",
    "                cl.click()\n",
    "                break\n",
    "            time.sleep(4)\n",
    "            cl=driver.find_element_by_xpath(\"/html/body/div[5]/div[3]/button\")\n",
    "            cl.click()\n",
    "            time.sleep(4)\n",
    "        c[top5handles[count]]=pcount \n",
    "        count=count+1\n",
    "        #print(c)\n",
    "    except IndexError:\n",
    "        break\n",
    "       \n",
    "    \n",
    "    "
   ]
  },
  {
   "cell_type": "code",
   "execution_count": 61,
   "metadata": {},
   "outputs": [
    {
     "name": "stdout",
     "output_type": "stream",
     "text": [
      "{'yourfoodlab': 3, 'foodloversindia': 3, 'mysurufoodie': 7, 'foodistamysuru': 7, 'mysuru_street_foodies': 8}\n"
     ]
    }
   ],
   "source": [
    "# THESE MUCH OF TIMES THE TOP 5 HANDLES HAVE POSTED IN THIER INSTAGRAM\n",
    "print(c)"
   ]
  },
  {
   "cell_type": "code",
   "execution_count": 65,
   "metadata": {},
   "outputs": [],
   "source": [
    "hand=c.keys()\n",
    "pos=c.values()"
   ]
  },
  {
   "cell_type": "code",
   "execution_count": 66,
   "metadata": {},
   "outputs": [
    {
     "name": "stdout",
     "output_type": "stream",
     "text": [
      "dict_keys(['yourfoodlab', 'foodloversindia', 'mysurufoodie', 'foodistamysuru', 'mysuru_street_foodies'])\n",
      "dict_values([3, 3, 7, 7, 8])\n"
     ]
    }
   ],
   "source": [
    "print(hand)\n",
    "print(pos)"
   ]
  },
  {
   "cell_type": "code",
   "execution_count": 67,
   "metadata": {},
   "outputs": [
    {
     "data": {
      "image/png": "[encoded data removed]",
      "text/plain": [
       "<Figure size 504x360 with 1 Axes>"
      ]
     },
     "metadata": {
      "needs_background": "light"
     },
     "output_type": "display_data"
    }
   ],
   "source": [
    "# THIS IS IN INTERMS OF BAR GRAPH\n",
    "import matplotlib.pyplot as plt\n",
    "\n",
    "plt.figure( figsize=(7, 5))\n",
    "plt.grid()\n",
    "plt.bar(hand, pos)\n",
    "plt.xticks(rotation = 15)\n",
    "plt.title('Top food handles v/s No. of posts in last 3 days')\n",
    "plt.xlabel('Food handles')\n",
    "plt.ylabel('No of Posts')\n",
    "plt.show()"
   ]
  },
  {
   "cell_type": "markdown",
   "metadata": {},
   "source": [
    "# Your friend also needs a list of hashtags that he should use in his posts.\n",
    "# Open the 5 handles you obtained in the last question, and scrape the content of the first 10 posts of each handle.\n",
    "# Prepare a list of all words used in all the scraped posts and calculate the frequency of each word.\n",
    "# Create a csv file with two columns : the word and its frequency\n",
    "# Now, find the hashtags that were most popular among these bloggers\n",
    "# Plot a Pie Chart of the top 5 hashtags obtained and the number of times they were used by these bloggers in the scraped posts."
   ]
  },
  {
   "cell_type": "code",
   "execution_count": null,
   "metadata": {},
   "outputs": [],
   "source": [
    "# GRABBING HASHTAGS OF 10 POSTS OF EACH HANDLE"
   ]
  },
  {
   "cell_type": "code",
   "execution_count": 73,
   "metadata": {},
   "outputs": [],
   "source": [
    "hs=driver.find_elements_by_xpath('//a[@class=\" xil3i\"]')"
   ]
  },
  {
   "cell_type": "code",
   "execution_count": 74,
   "metadata": {},
   "outputs": [
    {
     "name": "stdout",
     "output_type": "stream",
     "text": [
      "#recipe\n",
      "#foodiesofinstagram\n",
      "#kathal\n",
      "#kathalrecipe\n",
      "#foodporn\n",
      "#foodies\n",
      "#recipeoftheday\n",
      "#foodstylist\n",
      "#foodlover\n",
      "#foodpics\n",
      "#indianfood\n",
      "#indiaclicks\n",
      "#yourfoodlab\n",
      "#sanjyotkeer\n"
     ]
    }
   ],
   "source": [
    "for e in hs:\n",
    "    print(e.text)\n"
   ]
  },
  {
   "cell_type": "code",
   "execution_count": 78,
   "metadata": {},
   "outputs": [],
   "source": [
    "def scroll():\n",
    "    driver.execute_script('window.scrollBy(0,1500);')"
   ]
  },
  {
   "cell_type": "code",
   "execution_count": 83,
   "metadata": {},
   "outputs": [],
   "source": [
    "hashtags={}\n",
    "count=0\n",
    "pcount=0\n",
    "while True:\n",
    "    try:\n",
    "        sear=driver.find_element_by_xpath(\"//div[@class='LWmhU _0aCwM']/input\")\n",
    "        sear.send_keys(top5handles[count])\n",
    "        #count=count+1\n",
    "        time.sleep(3)\n",
    "        #scroll()\n",
    "        driver.execute_script('window.scrollBy(0,1500);')\n",
    "        time.sleep(4)\n",
    "        dilse=driver.find_element_by_xpath(\"//div[@class='_7UhW9   xLCgt       qyrsm KV-D4          uL8Hv         ']\")\n",
    "        dilse.click()\n",
    "        time.sleep(5)\n",
    "        cm=driver.find_elements_by_xpath(\"//div[@class='_9AhH0']\")\n",
    "        cm=cm[0:10]\n",
    "        for e in cm:\n",
    "            e.click()\n",
    "            time.sleep(4)\n",
    "            hs=driver.find_elements_by_xpath('//a[@class=\" xil3i\"]')\n",
    "            time.sleep(4)\n",
    "            for e in hs:\n",
    "                if e.text in hashtags:\n",
    "                    hashtags[e.text]+=1\n",
    "                else:\n",
    "                    hashtags[e.text]=1\n",
    "            time.sleep(4)\n",
    "            cl=driver.find_element_by_xpath(\"/html/body/div[5]/div[3]/button\")\n",
    "            cl.click()\n",
    "            time.sleep(4)  \n",
    "        #c[top5handles[count]]=pcount \n",
    "        count=count+1\n",
    "        #print(c)\n",
    "    except IndexError:\n",
    "        break"
   ]
  },
  {
   "cell_type": "code",
   "execution_count": 84,
   "metadata": {},
   "outputs": [
    {
     "name": "stdout",
     "output_type": "stream",
     "text": [
      "{'#mango': 2, '#mangoseason': 2, '#mangolover': 1, '#mangomango': 1, '#mangorecipes': 1, '#food': 22, '#foodstagram': 19, '#foodphotography': 10, '#foodstylist': 5, '#foodiesofinstagram': 6, '#foodshare': 1, '#sanjyotkeer': 8, '#foodgram': 1, '#yourfoodlab': 5, '#foodphotos': 1, '#indiancuisine': 4, '#frankie': 1, '#foodporn': 23, '#streetfood': 8, '#frankierecipe': 1, '#paneer': 1, '#paneerrecipes': 1, '#roll': 1, '#streetfoodindia': 1, '#MoreTogether': 1, '#DuniyaTumhaareSaathHai': 1, '#recipe': 5, '#kathal': 2, '#kathalrecipe': 2, '#foodies': 9, '#recipeoftheday': 3, '#foodlover': 20, '#foodpics': 4, '#indianfood': 3, '#indiaclicks': 2, '#pasta': 1, '#spagetti': 1, '#butterchickenteam': 1, '#butterchicken': 1, '#nonveg': 1, '#dahivada': 2, '#yummyfood': 2, '#DigSwirlSpread': 1, '#EpigamiaGheeSpread': 1, '#thandai': 1, '#thandairecipe': 1, '#holifestival': 1, '#holi': 1, '#holicelebration': 1, '#chocolate': 1, '#summerseason': 1, '#staytuned': 2, '#gourmetontheroad': 9, '#foodloverstv': 9, '#foodloversindia': 8, '#truthinfood': 9, '#linkinstory': 7, '#kripalamanna': 4, '#motovlog': 1, '#harleydavidson': 1, '#fatboy': 1, '#harleydavidsonfatboy': 1, '#harleydavidsonfatboy2016': 1, '#motorcyclemaintenance': 1, '#gourmetbiker': 2, '#bangalore': 3, '#madhavanparkbajjishop': 4, '#linkinbio': 4, '#jayanagar': 2, '#bengaluru': 3, '#vegetarian': 1, '#bajji': 1, '#pakora': 1, '#kripalamannavlogs': 2, '#vada': 2, '#idli': 2, '#iyeridly': 1, '#nrkbamboobiriyani': 1, '#biryani': 6, '#mysore': 12, '#mysuru': 22, '#nrkbamboobiryani': 1, '#bamboobiryani': 1, '#muttonbiryani': 1, '#chickenbiryani': 2, '': 17, '#mysurufoodie': 10, '#churumuri': 2, '#mavinkaichurumuri': 1, '#bornoninstagram': 10, '#mysorefoodie': 10, '#veggielasagna': 1, '#cutecafe': 1, '#cafetara': 1, '#cafeinmysuru': 1, '#brown': 1, '#lasagna': 1, '#salads': 1, '#ReelsInstagram': 1, '#feelitreelit': 5, '#feelpannungareelpannunga': 5, '#feelkaroreelkaro': 5, '#feelmaadireelmaadi': 5, '#feelit': 5, '#reelit': 5, '#suppportsmallbusinessmysuru': 2, '#eveningsnack': 1, '#ravaidli': 1, '#ragiidli': 1, '#idliesofinstagram': 1, '#rollercoastalicecream': 1, '#bombaystyle': 1, '#contestalert': 1, '#mokshapatisserie': 1, '#giveaway': 1, '#giveawayalert': 1, '#macaroons': 1, '#cake': 1, '#cookiesandwich': 1, '#farmstay': 1, '#weekendgetaway': 1, '#chickenlovers': 1, '#biryanilovers': 1, '#matakagulla': 1, '#patakamannars': 1, '#sweet': 1, '#3rdanniversary': 1, '#bengalisweet': 1, '#rasgulla': 1, '#cholebature': 1, '#dillistylefood': 1, '#lassi': 1, '#cholekulche': 1, '#vegbiryani': 1, '#dillifood': 1, '#greeksalad': 1, '#smoothie': 1, '#cindrella': 1, '#mocktail': 1, '#dreamerscafe': 1, '#coolers': 1, '#summer': 1, '#summervibes': 1, '#foodie': 17, '#instafood': 7, '#yummy': 7, '#instagood': 7, '#love': 7, '#foodblogger': 17, '#delicious': 7, '#follow': 7, '#like': 7, '#healthyfood': 7, '#homemade': 7, '#dinner': 7, '#foodgasm': 7, '#photooftheday': 7, '#tasty': 8, '#cooking': 7, '#picoftheday': 7, '#lunch': 7, '#healthy': 7, '#restaurant': 7, '#eat': 7, '#instagram': 7, '#chef': 7, '#reels': 6, '#reel': 6, '#reelsinstagram': 3, '#réel': 3, '#reelsvideo': 3, '#reelitfeelit': 6, '#reelkarofeelkaro': 3, '#reelitin': 3, '#reelpancing': 3, '#reelinstagram': 3, '#foodreels': 3, '#reelfood': 3, '#mysuru_street_foodie': 13, '#simplymsf': 10, '#mysurufood': 10, '#karnatakafood': 9, '#yummyinmytummy': 9, '#goodfood': 9, '#ifoundawesome': 9, '#foodfood': 15, '#trellfood': 9, '#shotonphone': 9, '#nkmpitstop': 10, '#eeeeeats': 9, '#spicyfood': 4, '#zingyzest': 9, '#yummyeats': 1, '#summerdrink': 1, '#mangomilkshake': 1, '#srinidhismangotrail': 1, '#biryanirice': 1, '#travelkarnataka': 1, '#karnataka_ig': 1, '#chicken': 1, '#bbic': 1, '#musttry': 1, '#foodography': 1, '#zomatography': 1, '#foodiesofindia': 1, '#india_ig': 1, '#crowdedplace': 1, '#zingyzestdelhi': 1, '#snack': 1, '#snacktime': 1, '#panipuri': 1, '#northindianfood': 1, '#668': 1, '#bakes': 1, '#pastries': 1, '#momos': 1, '#chaats': 2, '#tea': 1, '#lemontea': 1, '#paneerbuttermasala': 1}\n"
     ]
    }
   ],
   "source": [
    "print(hashtags)"
   ]
  },
  {
   "cell_type": "code",
   "execution_count": 85,
   "metadata": {},
   "outputs": [
    {
     "data": {
      "text/plain": [
       "[('#foodporn', 23),\n",
       " ('#food', 22),\n",
       " ('#mysuru', 22),\n",
       " ('#foodlover', 20),\n",
       " ('#foodstagram', 19),\n",
       " ('', 17),\n",
       " ('#foodie', 17),\n",
       " ('#foodblogger', 17),\n",
       " ('#foodfood', 15),\n",
       " ('#mysuru_street_foodie', 13),\n",
       " ('#mysore', 12),\n",
       " ('#foodphotography', 10),\n",
       " ('#mysurufoodie', 10),\n",
       " ('#bornoninstagram', 10),\n",
       " ('#mysorefoodie', 10),\n",
       " ('#simplymsf', 10),\n",
       " ('#mysurufood', 10),\n",
       " ('#nkmpitstop', 10),\n",
       " ('#foodies', 9),\n",
       " ('#gourmetontheroad', 9),\n",
       " ('#foodloverstv', 9),\n",
       " ('#truthinfood', 9),\n",
       " ('#karnatakafood', 9),\n",
       " ('#yummyinmytummy', 9),\n",
       " ('#goodfood', 9),\n",
       " ('#ifoundawesome', 9),\n",
       " ('#trellfood', 9),\n",
       " ('#shotonphone', 9),\n",
       " ('#eeeeeats', 9),\n",
       " ('#zingyzest', 9),\n",
       " ('#sanjyotkeer', 8),\n",
       " ('#streetfood', 8),\n",
       " ('#foodloversindia', 8),\n",
       " ('#tasty', 8),\n",
       " ('#linkinstory', 7),\n",
       " ('#instafood', 7),\n",
       " ('#yummy', 7),\n",
       " ('#instagood', 7),\n",
       " ('#love', 7),\n",
       " ('#delicious', 7),\n",
       " ('#follow', 7),\n",
       " ('#like', 7),\n",
       " ('#healthyfood', 7),\n",
       " ('#homemade', 7),\n",
       " ('#dinner', 7),\n",
       " ('#foodgasm', 7),\n",
       " ('#photooftheday', 7),\n",
       " ('#cooking', 7),\n",
       " ('#picoftheday', 7),\n",
       " ('#lunch', 7),\n",
       " ('#healthy', 7),\n",
       " ('#restaurant', 7),\n",
       " ('#eat', 7),\n",
       " ('#instagram', 7),\n",
       " ('#chef', 7),\n",
       " ('#foodiesofinstagram', 6),\n",
       " ('#biryani', 6),\n",
       " ('#reels', 6),\n",
       " ('#reel', 6),\n",
       " ('#reelitfeelit', 6),\n",
       " ('#foodstylist', 5),\n",
       " ('#yourfoodlab', 5),\n",
       " ('#recipe', 5),\n",
       " ('#feelitreelit', 5),\n",
       " ('#feelpannungareelpannunga', 5),\n",
       " ('#feelkaroreelkaro', 5),\n",
       " ('#feelmaadireelmaadi', 5),\n",
       " ('#feelit', 5),\n",
       " ('#reelit', 5),\n",
       " ('#indiancuisine', 4),\n",
       " ('#foodpics', 4),\n",
       " ('#kripalamanna', 4),\n",
       " ('#madhavanparkbajjishop', 4),\n",
       " ('#linkinbio', 4),\n",
       " ('#spicyfood', 4),\n",
       " ('#recipeoftheday', 3),\n",
       " ('#indianfood', 3),\n",
       " ('#bangalore', 3),\n",
       " ('#bengaluru', 3),\n",
       " ('#reelsinstagram', 3),\n",
       " ('#réel', 3),\n",
       " ('#reelsvideo', 3),\n",
       " ('#reelkarofeelkaro', 3),\n",
       " ('#reelitin', 3),\n",
       " ('#reelpancing', 3),\n",
       " ('#reelinstagram', 3),\n",
       " ('#foodreels', 3),\n",
       " ('#reelfood', 3),\n",
       " ('#mango', 2),\n",
       " ('#mangoseason', 2),\n",
       " ('#kathal', 2),\n",
       " ('#kathalrecipe', 2),\n",
       " ('#indiaclicks', 2),\n",
       " ('#dahivada', 2),\n",
       " ('#yummyfood', 2),\n",
       " ('#staytuned', 2),\n",
       " ('#gourmetbiker', 2),\n",
       " ('#jayanagar', 2),\n",
       " ('#kripalamannavlogs', 2),\n",
       " ('#vada', 2),\n",
       " ('#idli', 2),\n",
       " ('#chickenbiryani', 2),\n",
       " ('#churumuri', 2),\n",
       " ('#suppportsmallbusinessmysuru', 2),\n",
       " ('#chaats', 2),\n",
       " ('#mangolover', 1),\n",
       " ('#mangomango', 1),\n",
       " ('#mangorecipes', 1),\n",
       " ('#foodshare', 1),\n",
       " ('#foodgram', 1),\n",
       " ('#foodphotos', 1),\n",
       " ('#frankie', 1),\n",
       " ('#frankierecipe', 1),\n",
       " ('#paneer', 1),\n",
       " ('#paneerrecipes', 1),\n",
       " ('#roll', 1),\n",
       " ('#streetfoodindia', 1),\n",
       " ('#MoreTogether', 1),\n",
       " ('#DuniyaTumhaareSaathHai', 1),\n",
       " ('#pasta', 1),\n",
       " ('#spagetti', 1),\n",
       " ('#butterchickenteam', 1),\n",
       " ('#butterchicken', 1),\n",
       " ('#nonveg', 1),\n",
       " ('#DigSwirlSpread', 1),\n",
       " ('#EpigamiaGheeSpread', 1),\n",
       " ('#thandai', 1),\n",
       " ('#thandairecipe', 1),\n",
       " ('#holifestival', 1),\n",
       " ('#holi', 1),\n",
       " ('#holicelebration', 1),\n",
       " ('#chocolate', 1),\n",
       " ('#summerseason', 1),\n",
       " ('#motovlog', 1),\n",
       " ('#harleydavidson', 1),\n",
       " ('#fatboy', 1),\n",
       " ('#harleydavidsonfatboy', 1),\n",
       " ('#harleydavidsonfatboy2016', 1),\n",
       " ('#motorcyclemaintenance', 1),\n",
       " ('#vegetarian', 1),\n",
       " ('#bajji', 1),\n",
       " ('#pakora', 1),\n",
       " ('#iyeridly', 1),\n",
       " ('#nrkbamboobiriyani', 1),\n",
       " ('#nrkbamboobiryani', 1),\n",
       " ('#bamboobiryani', 1),\n",
       " ('#muttonbiryani', 1),\n",
       " ('#mavinkaichurumuri', 1),\n",
       " ('#veggielasagna', 1),\n",
       " ('#cutecafe', 1),\n",
       " ('#cafetara', 1),\n",
       " ('#cafeinmysuru', 1),\n",
       " ('#brown', 1),\n",
       " ('#lasagna', 1),\n",
       " ('#salads', 1),\n",
       " ('#ReelsInstagram', 1),\n",
       " ('#eveningsnack', 1),\n",
       " ('#ravaidli', 1),\n",
       " ('#ragiidli', 1),\n",
       " ('#idliesofinstagram', 1),\n",
       " ('#rollercoastalicecream', 1),\n",
       " ('#bombaystyle', 1),\n",
       " ('#contestalert', 1),\n",
       " ('#mokshapatisserie', 1),\n",
       " ('#giveaway', 1),\n",
       " ('#giveawayalert', 1),\n",
       " ('#macaroons', 1),\n",
       " ('#cake', 1),\n",
       " ('#cookiesandwich', 1),\n",
       " ('#farmstay', 1),\n",
       " ('#weekendgetaway', 1),\n",
       " ('#chickenlovers', 1),\n",
       " ('#biryanilovers', 1),\n",
       " ('#matakagulla', 1),\n",
       " ('#patakamannars', 1),\n",
       " ('#sweet', 1),\n",
       " ('#3rdanniversary', 1),\n",
       " ('#bengalisweet', 1),\n",
       " ('#rasgulla', 1),\n",
       " ('#cholebature', 1),\n",
       " ('#dillistylefood', 1),\n",
       " ('#lassi', 1),\n",
       " ('#cholekulche', 1),\n",
       " ('#vegbiryani', 1),\n",
       " ('#dillifood', 1),\n",
       " ('#greeksalad', 1),\n",
       " ('#smoothie', 1),\n",
       " ('#cindrella', 1),\n",
       " ('#mocktail', 1),\n",
       " ('#dreamerscafe', 1),\n",
       " ('#coolers', 1),\n",
       " ('#summer', 1),\n",
       " ('#summervibes', 1),\n",
       " ('#yummyeats', 1),\n",
       " ('#summerdrink', 1),\n",
       " ('#mangomilkshake', 1),\n",
       " ('#srinidhismangotrail', 1),\n",
       " ('#biryanirice', 1),\n",
       " ('#travelkarnataka', 1),\n",
       " ('#karnataka_ig', 1),\n",
       " ('#chicken', 1),\n",
       " ('#bbic', 1),\n",
       " ('#musttry', 1),\n",
       " ('#foodography', 1),\n",
       " ('#zomatography', 1),\n",
       " ('#foodiesofindia', 1),\n",
       " ('#india_ig', 1),\n",
       " ('#crowdedplace', 1),\n",
       " ('#zingyzestdelhi', 1),\n",
       " ('#snack', 1),\n",
       " ('#snacktime', 1),\n",
       " ('#panipuri', 1),\n",
       " ('#northindianfood', 1),\n",
       " ('#668', 1),\n",
       " ('#bakes', 1),\n",
       " ('#pastries', 1),\n",
       " ('#momos', 1),\n",
       " ('#tea', 1),\n",
       " ('#lemontea', 1),\n",
       " ('#paneerbuttermasala', 1)]"
      ]
     },
     "execution_count": 85,
     "metadata": {},
     "output_type": "execute_result"
    }
   ],
   "source": [
    "sorted_hash = sorted(hashtags.items(), key = lambda kv:kv[1], reverse = True)\n",
    "sorted_hash"
   ]
  },
  {
   "cell_type": "code",
   "execution_count": 86,
   "metadata": {},
   "outputs": [],
   "source": [
    "import pandas as pd\n",
    "#creating a dataframe\n",
    "df = pd.DataFrame(sorted_hash, columns=['Word','Frequency'])"
   ]
  },
  {
   "cell_type": "code",
   "execution_count": 87,
   "metadata": {},
   "outputs": [
    {
     "data": {
      "text/html": [
       "<div>\n",
       "<style scoped>\n",
       "    .dataframe tbody tr th:only-of-type {\n",
       "        vertical-align: middle;\n",
       "    }\n",
       "\n",
       "    .dataframe tbody tr th {\n",
       "        vertical-align: top;\n",
       "    }\n",
       "\n",
       "    .dataframe thead th {\n",
       "        text-align: right;\n",
       "    }\n",
       "</style>\n",
       "<table border=\"1\" class=\"dataframe\">\n",
       "  <thead>\n",
       "    <tr style=\"text-align: right;\">\n",
       "      <th></th>\n",
       "      <th>Word</th>\n",
       "      <th>Frequency</th>\n",
       "    </tr>\n",
       "  </thead>\n",
       "  <tbody>\n",
       "    <tr>\n",
       "      <td>0</td>\n",
       "      <td>#foodporn</td>\n",
       "      <td>23</td>\n",
       "    </tr>\n",
       "    <tr>\n",
       "      <td>1</td>\n",
       "      <td>#food</td>\n",
       "      <td>22</td>\n",
       "    </tr>\n",
       "    <tr>\n",
       "      <td>2</td>\n",
       "      <td>#mysuru</td>\n",
       "      <td>22</td>\n",
       "    </tr>\n",
       "    <tr>\n",
       "      <td>3</td>\n",
       "      <td>#foodlover</td>\n",
       "      <td>20</td>\n",
       "    </tr>\n",
       "    <tr>\n",
       "      <td>4</td>\n",
       "      <td>#foodstagram</td>\n",
       "      <td>19</td>\n",
       "    </tr>\n",
       "    <tr>\n",
       "      <td>...</td>\n",
       "      <td>...</td>\n",
       "      <td>...</td>\n",
       "    </tr>\n",
       "    <tr>\n",
       "      <td>215</td>\n",
       "      <td>#pastries</td>\n",
       "      <td>1</td>\n",
       "    </tr>\n",
       "    <tr>\n",
       "      <td>216</td>\n",
       "      <td>#momos</td>\n",
       "      <td>1</td>\n",
       "    </tr>\n",
       "    <tr>\n",
       "      <td>217</td>\n",
       "      <td>#tea</td>\n",
       "      <td>1</td>\n",
       "    </tr>\n",
       "    <tr>\n",
       "      <td>218</td>\n",
       "      <td>#lemontea</td>\n",
       "      <td>1</td>\n",
       "    </tr>\n",
       "    <tr>\n",
       "      <td>219</td>\n",
       "      <td>#paneerbuttermasala</td>\n",
       "      <td>1</td>\n",
       "    </tr>\n",
       "  </tbody>\n",
       "</table>\n",
       "<p>220 rows × 2 columns</p>\n",
       "</div>"
      ],
      "text/plain": [
       "                    Word  Frequency\n",
       "0              #foodporn         23\n",
       "1                  #food         22\n",
       "2                #mysuru         22\n",
       "3             #foodlover         20\n",
       "4           #foodstagram         19\n",
       "..                   ...        ...\n",
       "215            #pastries          1\n",
       "216               #momos          1\n",
       "217                 #tea          1\n",
       "218            #lemontea          1\n",
       "219  #paneerbuttermasala          1\n",
       "\n",
       "[220 rows x 2 columns]"
      ]
     },
     "execution_count": 87,
     "metadata": {},
     "output_type": "execute_result"
    }
   ],
   "source": [
    "df"
   ]
  },
  {
   "cell_type": "code",
   "execution_count": 88,
   "metadata": {},
   "outputs": [],
   "source": [
    "hashtags_csv=df.to_csv('frequency_hashtags.csv', index = False )\n"
   ]
  },
  {
   "cell_type": "code",
   "execution_count": 89,
   "metadata": {},
   "outputs": [
    {
     "data": {
      "text/html": [
       "<div>\n",
       "<style scoped>\n",
       "    .dataframe tbody tr th:only-of-type {\n",
       "        vertical-align: middle;\n",
       "    }\n",
       "\n",
       "    .dataframe tbody tr th {\n",
       "        vertical-align: top;\n",
       "    }\n",
       "\n",
       "    .dataframe thead th {\n",
       "        text-align: right;\n",
       "    }\n",
       "</style>\n",
       "<table border=\"1\" class=\"dataframe\">\n",
       "  <thead>\n",
       "    <tr style=\"text-align: right;\">\n",
       "      <th></th>\n",
       "      <th>Word</th>\n",
       "      <th>Frequency</th>\n",
       "    </tr>\n",
       "  </thead>\n",
       "  <tbody>\n",
       "    <tr>\n",
       "      <td>0</td>\n",
       "      <td>#foodporn</td>\n",
       "      <td>23</td>\n",
       "    </tr>\n",
       "    <tr>\n",
       "      <td>1</td>\n",
       "      <td>#food</td>\n",
       "      <td>22</td>\n",
       "    </tr>\n",
       "    <tr>\n",
       "      <td>2</td>\n",
       "      <td>#mysuru</td>\n",
       "      <td>22</td>\n",
       "    </tr>\n",
       "    <tr>\n",
       "      <td>3</td>\n",
       "      <td>#foodlover</td>\n",
       "      <td>20</td>\n",
       "    </tr>\n",
       "    <tr>\n",
       "      <td>4</td>\n",
       "      <td>#foodstagram</td>\n",
       "      <td>19</td>\n",
       "    </tr>\n",
       "    <tr>\n",
       "      <td>...</td>\n",
       "      <td>...</td>\n",
       "      <td>...</td>\n",
       "    </tr>\n",
       "    <tr>\n",
       "      <td>215</td>\n",
       "      <td>#pastries</td>\n",
       "      <td>1</td>\n",
       "    </tr>\n",
       "    <tr>\n",
       "      <td>216</td>\n",
       "      <td>#momos</td>\n",
       "      <td>1</td>\n",
       "    </tr>\n",
       "    <tr>\n",
       "      <td>217</td>\n",
       "      <td>#tea</td>\n",
       "      <td>1</td>\n",
       "    </tr>\n",
       "    <tr>\n",
       "      <td>218</td>\n",
       "      <td>#lemontea</td>\n",
       "      <td>1</td>\n",
       "    </tr>\n",
       "    <tr>\n",
       "      <td>219</td>\n",
       "      <td>#paneerbuttermasala</td>\n",
       "      <td>1</td>\n",
       "    </tr>\n",
       "  </tbody>\n",
       "</table>\n",
       "<p>220 rows × 2 columns</p>\n",
       "</div>"
      ],
      "text/plain": [
       "                    Word  Frequency\n",
       "0              #foodporn         23\n",
       "1                  #food         22\n",
       "2                #mysuru         22\n",
       "3             #foodlover         20\n",
       "4           #foodstagram         19\n",
       "..                   ...        ...\n",
       "215            #pastries          1\n",
       "216               #momos          1\n",
       "217                 #tea          1\n",
       "218            #lemontea          1\n",
       "219  #paneerbuttermasala          1\n",
       "\n",
       "[220 rows x 2 columns]"
      ]
     },
     "execution_count": 89,
     "metadata": {},
     "output_type": "execute_result"
    }
   ],
   "source": [
    "df"
   ]
  },
  {
   "cell_type": "code",
   "execution_count": 93,
   "metadata": {},
   "outputs": [
    {
     "name": "stdout",
     "output_type": "stream",
     "text": [
      "#foodporn  :  23\n",
      "#food  :  22\n",
      "#mysuru  :  22\n",
      "#foodlover  :  20\n",
      "#foodstagram  :  19\n",
      "#foodie  :  17\n",
      "#foodblogger  :  17\n",
      "#foodfood  :  15\n",
      "#mysuru_street_foodie  :  13\n",
      "#mysore  :  12\n",
      "#foodphotography  :  10\n"
     ]
    }
   ],
   "source": [
    "c=0\n",
    "for ind in df.index:\n",
    "    if c<11:\n",
    "        if ind==5:\n",
    "            continue\n",
    "        h=df[\"Word\"][ind]\n",
    "        f=df['Frequency'][ind]\n",
    "        print(h,\" : \",f)\n",
    "        c=c+1"
   ]
  },
  {
   "cell_type": "code",
   "execution_count": 94,
   "metadata": {},
   "outputs": [],
   "source": [
    "#creating lists\n",
    "c=0\n",
    "word=[]\n",
    "fr=[]\n",
    "for ind in df.index:\n",
    "    if c<5:\n",
    "        h=df[\"Word\"][ind]\n",
    "        f=df['Frequency'][ind]\n",
    "        word.append(h)\n",
    "        fr.append(f)\n",
    "        c=c+1"
   ]
  },
  {
   "cell_type": "code",
   "execution_count": 123,
   "metadata": {},
   "outputs": [
    {
     "data": {
      "image/png": "[encoded data removed]",
      "text/plain": [
       "<Figure size 432x288 with 1 Axes>"
      ]
     },
     "metadata": {},
     "output_type": "display_data"
    }
   ],
   "source": [
    "sizes=fr\n",
    "labels=word\n",
    "explode=[0.15,0,0,0,0]\n",
    "plt.pie(sizes,labels=labels,explode=explode,autopct=\"%.1f%%\")\n",
    "plt.title(\"Most popular hashtags\")\n",
    "plt.show()"
   ]
  },
  {
   "cell_type": "code",
   "execution_count": 97,
   "metadata": {},
   "outputs": [],
   "source": [
    "# THIS IS THE PIE CHART FOR THAT"
   ]
  },
  {
   "cell_type": "markdown",
   "metadata": {},
   "source": [
    "# You need to also calculate average followers : likes ratio for the obtained handles.\n",
    "# Followers : Likes ratio is calculated as follows:\n",
    "# Find out the likes of the top 10 posts of the 5 handles obtained earlier.\n",
    "# Calculate the average likes for a handle.\n",
    "# Divide the average likes obtained from the number of followers of the handle to get the average followers:like ratio of each handle.\n",
    "# Create a bar graph to depict the above obtained information."
   ]
  },
  {
   "cell_type": "code",
   "execution_count": 124,
   "metadata": {},
   "outputs": [
    {
     "name": "stdout",
     "output_type": "stream",
     "text": [
      "yourfoodlab\n",
      "16015.0\n",
      "34971.0\n",
      "14523.0\n",
      "29663.0\n",
      "26982.0\n",
      "23964.0\n",
      "33183.0\n",
      "39683.0\n",
      "27843.0\n",
      "18375.0\n",
      "foodloversindia\n",
      "1170.0\n",
      "929.0\n",
      "2074.0\n",
      "2023.0\n",
      "1186.0\n",
      "1321.0\n",
      "1085.0\n",
      "1741.0\n",
      "4717.0\n",
      "6187.0\n",
      "mysurufoodie\n",
      "4138.0\n",
      "4834.0\n",
      "2547.0\n",
      "8414.0\n",
      "5294.0\n",
      "5753.0\n",
      "4484.0\n",
      "4118.0\n",
      "5107.0\n",
      "2456.0\n",
      "foodistamysuru\n",
      "1288.0\n",
      "2963.0\n",
      "2548.0\n",
      "1938.0\n",
      "1777.0\n",
      "1733.0\n",
      "1323.0\n",
      "1253.0\n",
      "1541.0\n",
      "2095.0\n",
      "mysuru_street_foodies\n",
      "1946.0\n",
      "1017.0\n",
      "1986.0\n",
      "2740.0\n",
      "3670.0\n",
      "1454.0\n",
      "8031.0\n",
      "4540.0\n",
      "4018.0\n",
      "19327.0\n"
     ]
    }
   ],
   "source": [
    "\n",
    "count=0\n",
    "handlefollow=[]\n",
    "followers=[]\n",
    "totallikes=[]\n",
    "while True:\n",
    "    try:\n",
    "        eachlike=[]\n",
    "        sear=driver.find_element_by_xpath(\"//div[@class='LWmhU _0aCwM']/input\")\n",
    "        sear.send_keys(top5handles[count])\n",
    "        #count=count+1\n",
    "        time.sleep(3)\n",
    "        #scroll()\n",
    "        driver.execute_script('window.scrollBy(0,1500);')\n",
    "        time.sleep(4)\n",
    "        dilse=driver.find_element_by_xpath(\"//div[@class='_7UhW9   xLCgt       qyrsm KV-D4          uL8Hv         ']\")\n",
    "        time.sleep(4)\n",
    "        dilse.click()\n",
    "        time.sleep(5)\n",
    "        cm=driver.find_elements_by_xpath(\"//div[@class='_9AhH0']\")\n",
    "        cm=cm[0:20]\n",
    "        print(top5handles[count])\n",
    "        follo=driver.find_element_by_xpath(\"//*[@id='react-root']/section/main/div/header/section/ul/li[2]/a/span\")\n",
    "        fo=follo.get_attribute('innerHTML')\n",
    "        followers.append(fo)\n",
    "        handlefollow.append(top5handles[count])\n",
    "        pcount=0\n",
    "        #print(cm)\n",
    "        i=0\n",
    "        while i<20:\n",
    "            cm[i].click()\n",
    "            if pcount==10:\n",
    "                time.sleep(4)\n",
    "                cl=driver.find_element_by_xpath(\"/html/body/div[5]/div[3]/button\")\n",
    "                cl.click()\n",
    "                time.sleep(4)\n",
    "                break\n",
    "            time.sleep(4)\n",
    "            try:\n",
    "                li=driver.find_element_by_xpath(\"/html/body/div[5]/div[2]/div/article/div[3]/section[2]/div/div/a/span\")\n",
    "            except NoSuchElementException:\n",
    "                i=i+1\n",
    "                cl=driver.find_element_by_xpath(\"/html/body/div[5]/div[3]/button\")\n",
    "                cl.click()\n",
    "                time.sleep(4)\n",
    "                continue\n",
    "            time.sleep(2)\n",
    "            likes=li.get_attribute('innerHTML')\n",
    "            likes=likes.replace(',','')\n",
    "            likes=float(likes)\n",
    "            print(likes)\n",
    "            eachlike.append(likes)\n",
    "            time.sleep(4)\n",
    "            cl=driver.find_element_by_xpath(\"/html/body/div[5]/div[3]/button\")\n",
    "            cl.click()\n",
    "            time.sleep(4)\n",
    "            i=i+1\n",
    "            pcount=pcount+1\n",
    "        #c[top5handles[count]]=pcount \n",
    "        count=count+1\n",
    "        totallikes.append(eachlike)\n",
    "        #print(c)\n",
    "    except IndexError:\n",
    "        break"
   ]
  },
  {
   "cell_type": "code",
   "execution_count": 125,
   "metadata": {},
   "outputs": [
    {
     "name": "stdout",
     "output_type": "stream",
     "text": [
      "['yourfoodlab', 'foodloversindia', 'mysurufoodie', 'foodistamysuru', 'mysuru_street_foodies']\n"
     ]
    }
   ],
   "source": [
    "print(handlefollow)\n"
   ]
  },
  {
   "cell_type": "code",
   "execution_count": 126,
   "metadata": {},
   "outputs": [
    {
     "name": "stdout",
     "output_type": "stream",
     "text": [
      "['1.6m', '78.7k', '60.4k', '30.6k', '19.6k']\n"
     ]
    }
   ],
   "source": [
    "print(followers)"
   ]
  },
  {
   "cell_type": "code",
   "execution_count": 127,
   "metadata": {},
   "outputs": [
    {
     "name": "stdout",
     "output_type": "stream",
     "text": [
      "[[16015.0, 34971.0, 14523.0, 29663.0, 26982.0, 23964.0, 33183.0, 39683.0, 27843.0, 18375.0], [1170.0, 929.0, 2074.0, 2023.0, 1186.0, 1321.0, 1085.0, 1741.0, 4717.0, 6187.0], [4138.0, 4834.0, 2547.0, 8414.0, 5294.0, 5753.0, 4484.0, 4118.0, 5107.0, 2456.0], [1288.0, 2963.0, 2548.0, 1938.0, 1777.0, 1733.0, 1323.0, 1253.0, 1541.0, 2095.0], [1946.0, 1017.0, 1986.0, 2740.0, 3670.0, 1454.0, 8031.0, 4540.0, 4018.0, 19327.0]]\n"
     ]
    }
   ],
   "source": [
    "print(totallikes)"
   ]
  },
  {
   "cell_type": "code",
   "execution_count": 129,
   "metadata": {},
   "outputs": [
    {
     "name": "stdout",
     "output_type": "stream",
     "text": [
      "[1600000.0, 78700.0, 60400.0, 30600.0, 19600.0]\n"
     ]
    }
   ],
   "source": [
    "follower=[]\n",
    "for e in followers:\n",
    "    if 'm' in e:\n",
    "        e=e.replace('m','')\n",
    "        e=float(e)*1000000\n",
    "        follower.append(e)\n",
    "    else:\n",
    "        e=e.replace('k','')\n",
    "        e=float(e)*1000\n",
    "        follower.append(e)\n",
    "print(follower)\n",
    "    "
   ]
  },
  {
   "cell_type": "code",
   "execution_count": 138,
   "metadata": {},
   "outputs": [],
   "source": [
    "# TOTAL LIKES FOR EACH HANDLE"
   ]
  },
  {
   "cell_type": "code",
   "execution_count": 140,
   "metadata": {},
   "outputs": [
    {
     "name": "stdout",
     "output_type": "stream",
     "text": [
      "yourfoodlab  :  265202\n",
      "foodloversindia  :  22433\n",
      "mysurufoodie  :  47145\n",
      "foodistamysuru  :  18459\n",
      "mysuru_street_foodies  :  48729\n"
     ]
    }
   ],
   "source": [
    "\n",
    "count=0\n",
    "for li in totallikes:\n",
    "    an=sum(li)\n",
    "    #average_likes.append(an)\n",
    "    #avgh[handlefollow[count]]=an\n",
    "    print(handlefollow[count],' : ',int(an))\n",
    "    count=count+1"
   ]
  },
  {
   "cell_type": "code",
   "execution_count": null,
   "metadata": {},
   "outputs": [],
   "source": [
    "# AVERAGE LIKES FOR EACH HANDLE"
   ]
  },
  {
   "cell_type": "code",
   "execution_count": 143,
   "metadata": {},
   "outputs": [],
   "source": [
    "avgh={}\n",
    "average_likes=[]\n",
    "count=0\n",
    "for li in totallikes:\n",
    "    an=sum(li)/10\n",
    "    average_likes.append(an)\n",
    "    avgh[handlefollow[count]]=an\n",
    "    count=count+1\n",
    "    \n",
    "    "
   ]
  },
  {
   "cell_type": "code",
   "execution_count": 144,
   "metadata": {},
   "outputs": [
    {
     "name": "stdout",
     "output_type": "stream",
     "text": [
      "yourfoodlab  :  26520.2\n",
      "foodloversindia  :  2243.3\n",
      "mysurufoodie  :  4714.5\n",
      "foodistamysuru  :  1845.9\n",
      "mysuru_street_foodies  :  4872.9\n"
     ]
    }
   ],
   "source": [
    "for e,i in avgh.items():\n",
    "    print(e, ' : ', i)"
   ]
  },
  {
   "cell_type": "code",
   "execution_count": null,
   "metadata": {},
   "outputs": [],
   "source": [
    "# AVERAGE LIKE RATIO FOR EACH HANDLE"
   ]
  },
  {
   "cell_type": "code",
   "execution_count": null,
   "metadata": {},
   "outputs": [],
   "source": [
    "The average likes for a handle.\n",
    "Divide the average likes obtained from the number of followers of the handle to get the average followers:like ratio of each handle.\n",
    "Create a bar graph to depict the above obtained information."
   ]
  },
  {
   "cell_type": "code",
   "execution_count": 145,
   "metadata": {},
   "outputs": [
    {
     "name": "stdout",
     "output_type": "stream",
     "text": [
      "[26520.2, 2243.3, 4714.5, 1845.9, 4872.9]\n"
     ]
    }
   ],
   "source": [
    "print(average_likes)"
   ]
  },
  {
   "cell_type": "code",
   "execution_count": 147,
   "metadata": {},
   "outputs": [
    {
     "name": "stdout",
     "output_type": "stream",
     "text": [
      "[1600000.0, 78700.0, 60400.0, 30600.0, 19600.0]\n"
     ]
    }
   ],
   "source": [
    "print(follower)"
   ]
  },
  {
   "cell_type": "code",
   "execution_count": 148,
   "metadata": {},
   "outputs": [
    {
     "name": "stdout",
     "output_type": "stream",
     "text": [
      "yourfoodlab  :  60.33137004999962\n",
      "foodloversindia  :  35.08224490705656\n",
      "mysurufoodie  :  12.811538869445329\n",
      "foodistamysuru  :  16.577279375914188\n",
      "mysuru_street_foodies  :  4.02224548010425\n"
     ]
    }
   ],
   "source": [
    "ratio=[]\n",
    "for i in range(5):\n",
    "    answer=follower[i]/average_likes[i]\n",
    "    ratio.append(answer)\n",
    "    print(handlefollow[i], ' : ',answer)\n",
    "    "
   ]
  },
  {
   "cell_type": "code",
   "execution_count": 149,
   "metadata": {},
   "outputs": [
    {
     "data": {
      "image/png": "[encoded data removed]",
      "text/plain": [
       "<Figure size 504x360 with 1 Axes>"
      ]
     },
     "metadata": {
      "needs_background": "light"
     },
     "output_type": "display_data"
    }
   ],
   "source": [
    "import matplotlib.pyplot as plt\n",
    "\n",
    "plt.figure( figsize=(7, 5))\n",
    "plt.bar(handlefollow,ratio)\n",
    "plt.grid()\n",
    "plt.title(\"Follower/Like ratio for top food handles\")\n",
    "plt.xlabel(\"Top Handles\")\n",
    "plt.ylabel(\"Followers/Like\")\n",
    "plt.xticks(rotation=15)\n",
    "plt.show()"
   ]
  },
  {
   "cell_type": "code",
   "execution_count": 150,
   "metadata": {},
   "outputs": [],
   "source": [
    "#THIS WILL SHOW YOU THE BAR GRAPH OF TOP 5 HANDLES"
   ]
  },
  {
   "cell_type": "code",
   "execution_count": 151,
   "metadata": {},
   "outputs": [],
   "source": [
    "#THANKU"
   ]
  }
 ],
 "metadata": {
  "kernelspec": {
   "display_name": "Python 3",
   "language": "python",
   "name": "python3"
  },
  "language_info": {
   "codemirror_mode": {
    "name": "ipython",
    "version": 3
   },
   "file_extension": ".py",
   "mimetype": "text/x-python",
   "name": "python",
   "nbconvert_exporter": "python",
   "pygments_lexer": "ipython3",
   "version": "3.7.4"
  }
 },
 "nbformat": 4,
 "nbformat_minor": 2
}
